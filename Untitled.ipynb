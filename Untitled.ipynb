{
 "cells": [
  {
   "cell_type": "code",
   "execution_count": 1,
   "id": "0ede7124",
   "metadata": {},
   "outputs": [],
   "source": [
    "import glob\n",
    "import cv2\n",
    "import matplotlib.pyplot as plt\n",
    "\n",
    "import torch\n",
    "import torch.nn as nn\n",
    "import torch.optim as optim\n",
    "import torch.nn.functional as F\n",
    "from torch.utils.data import Dataset\n",
    "from torch.utils.data import DataLoader\n",
    "from torch.utils.data import Subset\n",
    "from torch.utils.tensorboard import SummaryWriter\n",
    "\n",
    "import torchvision.models as models\n",
    "\n",
    "from torchsummary import summary\n",
    "\n",
    "import albumentations as A\n",
    "from albumentations.pytorch import ToTensorV2\n",
    "\n",
    "import numpy as np\n",
    "import xml.etree.ElementTree as ET\n",
    "\n",
    "from copy import deepcopy\n",
    "\n",
    "from sklearn.model_selection import train_test_split\n",
    "from tqdm import tqdm"
   ]
  },
  {
   "cell_type": "code",
   "execution_count": 2,
   "id": "b8123c57",
   "metadata": {},
   "outputs": [
    {
     "data": {
      "text/plain": [
       "device(type='cuda')"
      ]
     },
     "execution_count": 2,
     "metadata": {},
     "output_type": "execute_result"
    }
   ],
   "source": [
    "device = torch.device('cuda' if torch.cuda.is_available() else 'cpu')\n",
    "device"
   ]
  },
  {
   "cell_type": "code",
   "execution_count": 3,
   "id": "963135c1",
   "metadata": {},
   "outputs": [],
   "source": [
    "root_dir = 'datasets/dogs/'\n",
    "img_dir = '/images/Images/'\n",
    "annot_dir = '/annotations/Annotation/'"
   ]
  },
  {
   "cell_type": "code",
   "execution_count": 4,
   "id": "1799d9ef",
   "metadata": {},
   "outputs": [],
   "source": [
    "import os\n",
    "\n",
    "labels_map = {}\n",
    "for i, item in enumerate(os.listdir(root_dir + img_dir)):\n",
    "    sub_folder = os.path.join(root_dir + img_dir, item)\n",
    "    labels_map[sub_folder.split('-', maxsplit=1)[1]] = i"
   ]
  },
  {
   "cell_type": "code",
   "execution_count": 5,
   "id": "d7378911",
   "metadata": {},
   "outputs": [],
   "source": [
    "def img_crop(annot_path, img):\n",
    "    tree = ET.parse(annot_path)\n",
    "    obj = tree.find('./object')\n",
    "    bndbox = obj.find('bndbox')\n",
    "\n",
    "    # 강아지 종류\n",
    "    species = obj.find('name').text\n",
    "\n",
    "    # 이미지에서의 강아지 위치\n",
    "    xmin = int(bndbox.find('xmin').text)\n",
    "    ymin = int(bndbox.find('ymin').text)\n",
    "    xmax = int(bndbox.find('xmax').text)\n",
    "    ymax = int(bndbox.find('ymax').text)\n",
    "\n",
    "    cropped_img = img[ymin:ymax, xmin:xmax]\n",
    "    \n",
    "    label = labels_map.get(species)\n",
    "\n",
    "    return label, cropped_img"
   ]
  },
  {
   "cell_type": "code",
   "execution_count": 20,
   "id": "16139941",
   "metadata": {},
   "outputs": [],
   "source": [
    "class DogsDataset(Dataset):\n",
    "    def __init__(self, annot_dir, img_dir, transform=None):\n",
    "        annot_dir = glob.glob(root_dir + annot_dir + '*/*')\n",
    "        img_dir = glob.glob(root_dir + img_dir + '*/*.jpg')\n",
    "        self.annot_dir = sorted(annot_dir)\n",
    "        self.img_dir = sorted(img_dir)\n",
    "        \n",
    "        self.transform = transform\n",
    "        \n",
    "    def __len__(self):\n",
    "        return len(self.img_dir)\n",
    "        \n",
    "    def __getitem__(self, idx):\n",
    "        annot_path = self.annot_dir[idx]\n",
    "        img_path = self.img_dir[idx]\n",
    "        \n",
    "        img = cv2.imread(img_path)\n",
    "        img = cv2.cvtColor(img, cv2.COLOR_BGR2RGB)\n",
    "        \n",
    "        label, img = img_crop(annot_path, img)\n",
    "        if self.transform is not None:\n",
    "            img = self.transform(image=img)\n",
    "            img['label'] = label\n",
    "            return img\n",
    "\n",
    "        sample = {'image': img, 'label': label}\n",
    "        return sample\n",
    "    \n",
    "    def getlabel(self, idx):\n",
    "        annot_path = self.annot_dir[idx]\n",
    "        tree = ET.parse(annot_path)\n",
    "        obj = tree.find('./object')\n",
    "        species = obj.find('name').text\n",
    "        label = labels_map.get(species)\n",
    "        return label"
   ]
  },
  {
   "cell_type": "code",
   "execution_count": 21,
   "id": "aa1b9872",
   "metadata": {},
   "outputs": [],
   "source": [
    "transformer = A.Compose([\n",
    "    A.Resize(224, 224), \n",
    "    A.Normalize(), \n",
    "    ToTensorV2()\n",
    "])"
   ]
  },
  {
   "cell_type": "code",
   "execution_count": 22,
   "id": "a40f083b",
   "metadata": {},
   "outputs": [],
   "source": [
    "total_dataset = DogsDataset(annot_dir=annot_dir,\n",
    "                           img_dir=img_dir,\n",
    "                           transform=transformer)"
   ]
  },
  {
   "cell_type": "code",
   "execution_count": 32,
   "id": "afded79c",
   "metadata": {},
   "outputs": [
    {
     "name": "stderr",
     "output_type": "stream",
     "text": [
      "100%|██████████████████████████████████████████████████████████████████████████| 20580/20580 [00:02<00:00, 8359.07it/s]\n",
      "100%|██████████████████████████████████████████████████████████████████████████| 20580/20580 [00:02<00:00, 8928.42it/s]\n",
      "100%|██████████████████████████████████████████████████████████████████████████| 20580/20580 [00:02<00:00, 8951.73it/s]\n",
      "100%|██████████████████████████████████████████████████████████████████████████| 20580/20580 [00:02<00:00, 8382.89it/s]\n",
      "100%|██████████████████████████████████████████████████████████████████████████| 20580/20580 [00:02<00:00, 8365.85it/s]\n",
      "100%|██████████████████████████████████████████████████████████████████████████| 20580/20580 [00:02<00:00, 8278.36it/s]\n",
      "100%|██████████████████████████████████████████████████████████████████████████| 20580/20580 [00:02<00:00, 8315.15it/s]\n",
      "100%|██████████████████████████████████████████████████████████████████████████| 20580/20580 [00:02<00:00, 8328.61it/s]"
     ]
    },
    {
     "name": "stdout",
     "output_type": "stream",
     "text": [
      "2.42 s ± 76.1 ms per loop (mean ± std. dev. of 7 runs, 1 loop each)\n"
     ]
    },
    {
     "name": "stderr",
     "output_type": "stream",
     "text": [
      "\n"
     ]
    }
   ],
   "source": [
    "%timeit t = [total_dataset.getlabel(i) for i in tqdm(range(len(total_dataset)))]"
   ]
  },
  {
   "cell_type": "code",
   "execution_count": 29,
   "id": "7fa39d6d",
   "metadata": {},
   "outputs": [
    {
     "name": "stderr",
     "output_type": "stream",
     "text": [
      "100%|███████████████████████████████████████████████████████████████████████████| 20580/20580 [01:29<00:00, 229.16it/s]\n",
      "100%|███████████████████████████████████████████████████████████████████████████| 20580/20580 [01:04<00:00, 321.13it/s]\n",
      "100%|███████████████████████████████████████████████████████████████████████████| 20580/20580 [01:04<00:00, 320.30it/s]\n",
      "100%|███████████████████████████████████████████████████████████████████████████| 20580/20580 [01:03<00:00, 322.02it/s]\n",
      "100%|███████████████████████████████████████████████████████████████████████████| 20580/20580 [01:00<00:00, 342.87it/s]\n",
      "100%|███████████████████████████████████████████████████████████████████████████| 20580/20580 [00:51<00:00, 400.55it/s]\n",
      "100%|███████████████████████████████████████████████████████████████████████████| 20580/20580 [00:51<00:00, 396.96it/s]\n",
      "100%|███████████████████████████████████████████████████████████████████████████| 20580/20580 [00:51<00:00, 400.45it/s]"
     ]
    },
    {
     "name": "stdout",
     "output_type": "stream",
     "text": [
      "58.1 s ± 5.86 s per loop (mean ± std. dev. of 7 runs, 1 loop each)\n"
     ]
    },
    {
     "name": "stderr",
     "output_type": "stream",
     "text": [
      "\n"
     ]
    }
   ],
   "source": [
    "%timeit total_label = [data['label'] for data in tqdm(total_dataset)]"
   ]
  },
  {
   "cell_type": "code",
   "execution_count": 13,
   "id": "9d2cecb0",
   "metadata": {},
   "outputs": [],
   "source": [
    "trainset_idx, testset_idx = train_test_split(range(len(total_dataset)),\n",
    "                test_size=0.2, random_state=42, shuffle=True, stratify=total_label)"
   ]
  },
  {
   "cell_type": "code",
   "execution_count": 14,
   "id": "ef674588",
   "metadata": {},
   "outputs": [],
   "source": [
    "train_set_ = Subset(total_dataset, trainset_idx)"
   ]
  },
  {
   "cell_type": "code",
   "execution_count": 15,
   "id": "1a20c811",
   "metadata": {},
   "outputs": [
    {
     "name": "stderr",
     "output_type": "stream",
     "text": [
      "100%|███████████████████████████████████████████████████████████████████████████| 16464/16464 [00:40<00:00, 405.12it/s]"
     ]
    },
    {
     "name": "stdout",
     "output_type": "stream",
     "text": [
      "CPU times: total: 46.2 s\n",
      "Wall time: 40.6 s\n"
     ]
    },
    {
     "name": "stderr",
     "output_type": "stream",
     "text": [
      "\n"
     ]
    }
   ],
   "source": [
    "%time train_label = [data['label'] for data in tqdm(train_set_)]\n",
    "\n",
    "trainset_idx, validset_idx = train_test_split(range(len(trainset_idx)),\n",
    "                test_size=0.2, random_state=42, shuffle=True, stratify=train_label)"
   ]
  },
  {
   "cell_type": "code",
   "execution_count": 16,
   "id": "d40107cb",
   "metadata": {},
   "outputs": [],
   "source": [
    "train_set = Subset(train_set_, trainset_idx)\n",
    "test_set = Subset(total_dataset, testset_idx)\n",
    "valid_set = Subset(train_set_, validset_idx)"
   ]
  }
 ],
 "metadata": {
  "kernelspec": {
   "display_name": "Python 3 (ipykernel)",
   "language": "python",
   "name": "python3"
  },
  "language_info": {
   "codemirror_mode": {
    "name": "ipython",
    "version": 3
   },
   "file_extension": ".py",
   "mimetype": "text/x-python",
   "name": "python",
   "nbconvert_exporter": "python",
   "pygments_lexer": "ipython3",
   "version": "3.10.9"
  }
 },
 "nbformat": 4,
 "nbformat_minor": 5
}
