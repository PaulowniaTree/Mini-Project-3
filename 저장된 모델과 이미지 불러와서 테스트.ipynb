{
 "cells": [
  {
   "cell_type": "code",
   "execution_count": null,
   "id": "b641229e",
   "metadata": {},
   "outputs": [],
   "source": [
    "import os\n",
    "import cv2\n",
    "import matplotlib.pyplot as plt\n",
    "import torch\n",
    "import torch.nn as nn\n",
    "import torchvision.models as models\n",
    "import albumentations as A\n",
    "from albumentations.pytorch import ToTensorV2"
   ]
  },
  {
   "cell_type": "code",
   "execution_count": null,
   "id": "6bec58c5",
   "metadata": {},
   "outputs": [],
   "source": [
    "device = torch.device('cuda' if torch.cuda.is_available() else 'cpu')\n",
    "device"
   ]
  },
  {
   "cell_type": "code",
   "execution_count": null,
   "id": "03de5e1c",
   "metadata": {},
   "outputs": [],
   "source": [
    "root_dir = 'C:/Users/thffh/Documents/CNN/project/datasets/dogs'\n",
    "img_dir = '/images/Images/'\n",
    "annot_dir = '/annotations/Annotation/'"
   ]
  },
  {
   "cell_type": "code",
   "execution_count": null,
   "id": "44a7ff03",
   "metadata": {
    "scrolled": true
   },
   "outputs": [],
   "source": [
    "labels_map = {}\n",
    "for i, item in enumerate(os.listdir(root_dir + img_dir)):\n",
    "    sub_folder = os.path.join(root_dir + img_dir, item)\n",
    "    labels_map[sub_folder.split('-', maxsplit=1)[1]] = i"
   ]
  },
  {
   "cell_type": "code",
   "execution_count": null,
   "id": "b9726b8e",
   "metadata": {},
   "outputs": [],
   "source": [
    "best_state_dict = torch.load('D:/coding/models/dogs/last_ckpt_transfer_res101_batch32_half.pth')\n",
    "\n",
    "best_model = models.resnet101(weights=models.ResNet101_Weights.DEFAULT)\n",
    "best_model.fc = nn.Linear(in_features=2048, out_features=120)\n",
    "best_model.to(device)\n",
    "best_model.get_parameter = best_model.load_state_dict(best_state_dict)"
   ]
  },
  {
   "cell_type": "code",
   "execution_count": null,
   "id": "7f852715",
   "metadata": {},
   "outputs": [],
   "source": [
    "transformer = A.Compose([\n",
    "    A.Resize(224, 224), \n",
    "    A.Normalize(), \n",
    "    ToTensorV2()\n",
    "])"
   ]
  },
  {
   "cell_type": "code",
   "execution_count": null,
   "id": "809c082e",
   "metadata": {},
   "outputs": [],
   "source": [
    "test_img = cv2.imread('./datasets/dogs/test/test2.jpg')\n",
    "test_img = cv2.cvtColor(test_img, cv2.COLOR_BGR2RGB)"
   ]
  },
  {
   "cell_type": "code",
   "execution_count": null,
   "id": "8014fae8",
   "metadata": {},
   "outputs": [],
   "source": [
    "img_transed = transformer(image = test_img)\n",
    "\n",
    "images = img_transed['image'].to(device)\n",
    "\n",
    "best_model.eval()\n",
    "\n",
    "with torch.no_grad():\n",
    "    logit = best_model(images.unsqueeze(0))\n",
    "\n",
    "pred = logit.max(dim=1)[1]"
   ]
  },
  {
   "cell_type": "code",
   "execution_count": null,
   "id": "63e05951",
   "metadata": {},
   "outputs": [],
   "source": [
    "image = images.permute(1, 2, 0).to('cpu')\n",
    "label = pred\n",
    "\n",
    "idx = list(labels_map.values())[label]\n",
    "name = list(labels_map.keys())[idx]\n",
    "\n",
    "mean=torch.tensor([0.485, 0.456, 0.406]) \n",
    "std=torch.tensor([0.229, 0.224, 0.225])\n",
    "image.mul_(std)\n",
    "image.add_(mean)\n",
    "\n",
    "plt.axis('off')\n",
    "plt.imshow(image)\n",
    "plt.title('Sample #{}'.format(name))"
   ]
  },
  {
   "cell_type": "code",
   "execution_count": null,
   "id": "e388dbd6",
   "metadata": {},
   "outputs": [],
   "source": [
    "!nvidia-smi"
   ]
  },
  {
   "cell_type": "code",
   "execution_count": null,
   "id": "c0455697",
   "metadata": {},
   "outputs": [],
   "source": [
    "from GPUtil import showUtilization as gpu_usage"
   ]
  },
  {
   "cell_type": "code",
   "execution_count": null,
   "id": "46f3cfa7",
   "metadata": {},
   "outputs": [],
   "source": [
    "gpu_usage()"
   ]
  },
  {
   "cell_type": "code",
   "execution_count": null,
   "id": "ec587934",
   "metadata": {},
   "outputs": [],
   "source": [
    "torch.cuda.empty_cache()"
   ]
  },
  {
   "cell_type": "code",
   "execution_count": null,
   "id": "660a8b3d",
   "metadata": {},
   "outputs": [],
   "source": [
    "gpu_usage()"
   ]
  },
  {
   "cell_type": "code",
   "execution_count": null,
   "id": "f55457b5",
   "metadata": {},
   "outputs": [],
   "source": [
    "from numba import cuda\n",
    "cuda.select_device(0)\n",
    "cuda.close()\n",
    "cuda.select_device(0)"
   ]
  },
  {
   "cell_type": "code",
   "execution_count": null,
   "id": "c86bda55",
   "metadata": {},
   "outputs": [],
   "source": [
    "gpu_usage()"
   ]
  }
 ],
 "metadata": {
  "kernelspec": {
   "display_name": "Python 3 (ipykernel)",
   "language": "python",
   "name": "python3"
  },
  "language_info": {
   "codemirror_mode": {
    "name": "ipython",
    "version": 3
   },
   "file_extension": ".py",
   "mimetype": "text/x-python",
   "name": "python",
   "nbconvert_exporter": "python",
   "pygments_lexer": "ipython3",
   "version": "3.10.9"
  }
 },
 "nbformat": 4,
 "nbformat_minor": 5
}
